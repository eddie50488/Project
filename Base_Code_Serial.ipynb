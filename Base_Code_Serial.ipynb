{
 "cells": [
  {
   "cell_type": "code",
   "execution_count": 10,
   "id": "2cc87a62-185a-41e9-a43c-715db93b7a4a",
   "metadata": {},
   "outputs": [],
   "source": [
    "import math\n",
    "import serial.tools.list_ports\n",
    "ports = serial.tools.list_ports.comports()\n",
    "serialInst = serial.Serial()\n"
   ]
  },
  {
   "cell_type": "code",
   "execution_count": 11,
   "id": "7e40725f-e20a-41cd-8bed-8d5da75c3a49",
   "metadata": {},
   "outputs": [
    {
     "name": "stdout",
     "output_type": "stream",
     "text": [
      "COM5 - Arduino Uno (COM5)\n",
      "COM5\n"
     ]
    }
   ],
   "source": [
    "portsList = []\n",
    "\n",
    "for onePort in ports:\n",
    "    portsList.append(str(onePort))\n",
    "    print(str(onePort))\n",
    "    \n",
    "\n",
    "val = input(\"select Port: COM\")\n",
    "\n",
    "for x in range(0,len(portsList)):\n",
    "    if portsList[x].startswith('COM' + str(val)):\n",
    "        portVar = 'COM'+ str(val)\n",
    "        print(portVar)\n",
    "        \n",
    "serialInst.baudrate = 9600\n",
    "serialInst.port = portVar\n",
    "serialInst.open()\n",
    "\n"
   ]
  },
  {
   "cell_type": "code",
   "execution_count": 7,
   "id": "25f4e124-2f93-472a-babe-c68a8fcfd90d",
   "metadata": {},
   "outputs": [
    {
     "ename": "ValueError",
     "evalue": "invalid literal for int() with base 10: ''",
     "output_type": "error",
     "traceback": [
      "\u001b[1;31m---------------------------------------------------------------------------\u001b[0m",
      "\u001b[1;31mValueError\u001b[0m                                Traceback (most recent call last)",
      "\u001b[1;32mc:\\Users\\edwar\\Downloads\\Base_Code_Serial.ipynb Cell 3\u001b[0m line \u001b[0;36m1\n\u001b[1;32m----> <a href='vscode-notebook-cell:/c%3A/Users/edwar/Downloads/Base_Code_Serial.ipynb#W2sZmlsZQ%3D%3D?line=0'>1</a>\u001b[0m circle_dir \u001b[39m=\u001b[39m \u001b[39mint\u001b[39;49m(\u001b[39minput\u001b[39;49m(\u001b[39m\"\u001b[39;49m\u001b[39mCircle Direction: \u001b[39;49m\u001b[39m\"\u001b[39;49m))\n\u001b[0;32m      <a href='vscode-notebook-cell:/c%3A/Users/edwar/Downloads/Base_Code_Serial.ipynb#W2sZmlsZQ%3D%3D?line=1'>2</a>\u001b[0m square_dir \u001b[39m=\u001b[39m \u001b[39mint\u001b[39m(\u001b[39minput\u001b[39m(\u001b[39m\"\u001b[39m\u001b[39mSquare Direction: \u001b[39m\u001b[39m\"\u001b[39m))\n\u001b[0;32m      <a href='vscode-notebook-cell:/c%3A/Users/edwar/Downloads/Base_Code_Serial.ipynb#W2sZmlsZQ%3D%3D?line=2'>3</a>\u001b[0m plus_dir \u001b[39m=\u001b[39m \u001b[39mint\u001b[39m(\u001b[39minput\u001b[39m(\u001b[39m\"\u001b[39m\u001b[39mPlus Direction: \u001b[39m\u001b[39m\"\u001b[39m))\n",
      "\u001b[1;31mValueError\u001b[0m: invalid literal for int() with base 10: ''"
     ]
    }
   ],
   "source": [
    "\n",
    "circle_dir = int(input(\"Circle Direction: \"))\n",
    "square_dir = int(input(\"Square Direction: \"))\n",
    "plus_dir = int(input(\"Plus Direction: \"))\n",
    "triangle_dir = int(input(\"Triangle Direction: \"))\n",
    "\n",
    "speed = int(input(\"Speed (0 to 1): \"))\n",
    "circle_speed = speed\n",
    "square_speed = speed\n",
    "plus_speed = speed\n",
    "triangle_speed = speed\n",
    "\n",
    "brake = int(input(\"Brake (0 or 1): \"))\n",
    "circle_brake = brake\n",
    "square_brake = brake\n",
    "plus_brake = brake\n",
    "triangle_brake = brake\n",
    "\n",
    "Instruction = f\"{circle_dir} {circle_brake} {circle_speed} {square_dir} {square_brake} {square_speed} {plus_dir} {plus_brake} {plus_speed} {triangle_dir} {triangle_brake} {triangle_speed}\"\n",
    "print(Instruction)\n",
    "print(Instruction.encode('utf-8'))\n",
    "serialInst.write(Instruction.encode('utf-8'))\n"
   ]
  }
 ],
 "metadata": {
  "kernelspec": {
   "display_name": "Python 3 (ipykernel)",
   "language": "python",
   "name": "python3"
  },
  "language_info": {
   "codemirror_mode": {
    "name": "ipython",
    "version": 3
   },
   "file_extension": ".py",
   "mimetype": "text/x-python",
   "name": "python",
   "nbconvert_exporter": "python",
   "pygments_lexer": "ipython3",
   "version": "3.10.0"
  }
 },
 "nbformat": 4,
 "nbformat_minor": 5
}
