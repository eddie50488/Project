{
 "cells": [
  {
   "cell_type": "code",
   "execution_count": 8,
   "id": "2cc87a62-185a-41e9-a43c-715db93b7a4a",
   "metadata": {},
   "outputs": [],
   "source": [
    "import math\n",
    "import serial.tools.list_ports\n",
    "ports = serial.tools.list_ports.comports()\n",
    "serialInst = serial.Serial()\n"
   ]
  },
  {
   "cell_type": "code",
   "execution_count": 9,
   "id": "7e40725f-e20a-41cd-8bed-8d5da75c3a49",
   "metadata": {},
   "outputs": [
    {
     "name": "stdout",
     "output_type": "stream",
     "text": [
      "COM5 - Arduino Uno (COM5)\n",
      "COM5\n"
     ]
    }
   ],
   "source": [
    "portsList = []\n",
    "\n",
    "for onePort in ports:\n",
    "    portsList.append(str(onePort))\n",
    "    print(str(onePort))\n",
    "    \n",
    "\n",
    "val = input(\"select Port: COM\")\n",
    "\n",
    "for x in range(0,len(portsList)):\n",
    "    if portsList[x].startswith('COM' + str(val)):\n",
    "        portVar = 'COM'+ str(val)\n",
    "        print(portVar)\n",
    "serialInst.close()\n",
    "serialInst.baudrate = 9600\n",
    "serialInst.port = 'COM5'\n",
    "serialInst.open()\n",
    "\n",
    "\n"
   ]
  },
  {
   "cell_type": "code",
   "execution_count": 11,
   "id": "25f4e124-2f93-472a-babe-c68a8fcfd90d",
   "metadata": {},
   "outputs": [
    {
     "name": "stdout",
     "output_type": "stream",
     "text": [
      "1 1 50 1 1 50 1 1 50 1 1 50\n",
      "b'1 1 50 1 1 50 1 1 50 1 1 50'\n"
     ]
    },
    {
     "data": {
      "text/plain": [
       "27"
      ]
     },
     "execution_count": 11,
     "metadata": {},
     "output_type": "execute_result"
    }
   ],
   "source": [
    "\n",
    "circle_dir = int(input(\"Direction: \"))\n",
    "square_dir = circle_dir\n",
    "plus_dir = circle_dir\n",
    "triangle_dir = circle_dir\n",
    "\n",
    "speed = int(input(\"Speed (0 to 1): \"))\n",
    "circle_speed = speed\n",
    "square_speed = speed\n",
    "plus_speed = speed\n",
    "triangle_speed = speed\n",
    "\n",
    "brake = int(input(\"Brake (0 or 1): \"))\n",
    "circle_brake = brake\n",
    "square_brake = brake\n",
    "plus_brake = brake\n",
    "triangle_brake = brake\n",
    "\n",
    "Instruction = f\"{circle_dir} {circle_brake} {circle_speed} {square_dir} {square_brake} {square_speed} {plus_dir} {plus_brake} {plus_speed} {triangle_dir} {triangle_brake} {triangle_speed}\"\n",
    "print(Instruction)\n",
    "print(Instruction.encode('utf-8'))\n",
    "serialInst.write(Instruction.encode('utf-8'))\n"
   ]
  },
  {
   "cell_type": "code",
   "execution_count": null,
   "metadata": {},
   "outputs": [],
   "source": []
  }
 ],
 "metadata": {
  "kernelspec": {
   "display_name": "Python 3 (ipykernel)",
   "language": "python",
   "name": "python3"
  },
  "language_info": {
   "codemirror_mode": {
    "name": "ipython",
    "version": 3
   },
   "file_extension": ".py",
   "mimetype": "text/x-python",
   "name": "python",
   "nbconvert_exporter": "python",
   "pygments_lexer": "ipython3",
   "version": "3.10.0"
  }
 },
 "nbformat": 4,
 "nbformat_minor": 5
}
